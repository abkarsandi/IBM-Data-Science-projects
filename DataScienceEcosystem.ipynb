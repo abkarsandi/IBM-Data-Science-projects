{
 "cells": [
  {
   "cell_type": "markdown",
   "id": "1f6099b1-8614-4551-a49b-f60c6f2fc549",
   "metadata": {},
   "source": [
    "# Data Science Tools and Ecosystem"
   ]
  },
  {
   "cell_type": "markdown",
   "id": "1acc76c7-f7d0-404b-892a-80dcd1b393bc",
   "metadata": {},
   "source": [
    "In this notebook, Data Science Tools and Ecosystem are summaized."
   ]
  },
  {
   "cell_type": "markdown",
   "id": "8d6753a0-47e4-4fba-90c2-f0e62388acf5",
   "metadata": {},
   "source": [
    "Some of the popular languages that Data Scientists use are:\n",
    "\n",
    "- Python\n",
    "- Julia\n",
    "- R"
   ]
  },
  {
   "cell_type": "markdown",
   "id": "59e03f5a-3af2-422f-834e-d29b9438195c",
   "metadata": {},
   "source": [
    "Some of commonly used libraries used by Data Scientists include:\n",
    "\n",
    "- Pandas\n",
    "- Numpy\n",
    "- matplotlib"
   ]
  },
  {
   "cell_type": "markdown",
   "id": "f2637923-23bd-4ba5-8dd2-ffd93f112361",
   "metadata": {},
   "source": [
    "| Data Science Tools |\n",
    "|---|\n",
    "| Jupyter Notebok |\n",
    "| Visual Studio Code |\n",
    "| R Studio |"
   ]
  },
  {
   "cell_type": "markdown",
   "id": "4db1cb12-c539-4c2b-a15b-7cfe045a2c0e",
   "metadata": {},
   "source": [
    "### Below are a few examples of evaluating arithmetic expressions in Python"
   ]
  },
  {
   "cell_type": "markdown",
   "id": "0436cf5d-a62c-4d94-8a65-fd7c9cb251e1",
   "metadata": {},
   "source": [
    "This a simple arithmetic expression to mutiply then add integers"
   ]
  },
  {
   "cell_type": "code",
   "execution_count": 2,
   "id": "0b3150f2-5d16-44bb-b4b1-fe825def84ce",
   "metadata": {},
   "outputs": [
    {
     "data": {
      "text/plain": [
       "17"
      ]
     },
     "execution_count": 2,
     "metadata": {},
     "output_type": "execute_result"
    }
   ],
   "source": [
    "(3*4)+5"
   ]
  },
  {
   "cell_type": "markdown",
   "id": "a324b548-e758-43b1-a1de-c1aa8594b655",
   "metadata": {},
   "source": [
    "This will convert 200 minutes to hours by diving by 60"
   ]
  },
  {
   "cell_type": "code",
   "execution_count": 6,
   "id": "ff9ffc76-8c84-418a-9136-71d4b32e70ab",
   "metadata": {},
   "outputs": [
    {
     "data": {
      "text/plain": [
       "'200 minutes is 3.3333333333333335 hours.'"
      ]
     },
     "execution_count": 6,
     "metadata": {},
     "output_type": "execute_result"
    }
   ],
   "source": [
    "\"200 minutes is \" + str(200/60) + \" hours.\""
   ]
  },
  {
   "cell_type": "markdown",
   "id": "18cc8621-d478-44cc-a83e-40d8b2d48880",
   "metadata": {},
   "source": [
    "Objectives:\n",
    "\n",
    "- List popular languages in data science\n",
    "- List popular libraries used in data science\n",
    "- Use markdown to prepare documents\n",
    "- Review the course materials"
   ]
  },
  {
   "cell_type": "markdown",
   "id": "4831c0e4-ef52-492e-a1ee-b65b9371656e",
   "metadata": {},
   "source": [
    "This ipynb file is prepared by Ahmet Buğra KARSANDI, in 08.08.2023"
   ]
  },
  {
   "cell_type": "code",
   "execution_count": null,
   "id": "9335f42e-8a6a-49bf-812f-2beaf62884ed",
   "metadata": {},
   "outputs": [],
   "source": []
  }
 ],
 "metadata": {
  "kernelspec": {
   "display_name": "Python 3 (ipykernel)",
   "language": "python",
   "name": "python3"
  },
  "language_info": {
   "codemirror_mode": {
    "name": "ipython",
    "version": 3
   },
   "file_extension": ".py",
   "mimetype": "text/x-python",
   "name": "python",
   "nbconvert_exporter": "python",
   "pygments_lexer": "ipython3",
   "version": "3.11.1"
  }
 },
 "nbformat": 4,
 "nbformat_minor": 5
}
